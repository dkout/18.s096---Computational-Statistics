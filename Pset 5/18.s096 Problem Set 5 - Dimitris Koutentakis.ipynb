{
 "cells": [
  {
   "cell_type": "markdown",
   "metadata": {},
   "source": [
    "# Problem 1\n",
    "## (a)\n",
    "\n",
    "\\begin{align}\n",
    "    M_y(t) & = e^{ta}\\sum_i \\sum_j P(U_i) P(X_j) e^{tU_iX_j} \\\\\n",
    "    & = e^{ta} \\sum_i \\sum_j \\frac{1}{2} \\Big( e^{btX_i} + e^{-btX_i} \\Big) P(X_i) \\\\\n",
    "    & = e^{ta} \\frac{1}{2} \\Big( \\frac{1}{1-bt} + \\frac{1}{1+bt} \\Big)\\\\\n",
    "    & = e^{ta} \\frac{1}{2} \\Big( \\frac{2}{1-(bt)^2}\\Big)\\\\\n",
    "    & = \\frac{e^{ta}}{1-b^2t^2}\n",
    "\\end{align}\n",
    "\n",
    "We also know that the MGF of a Laplace distribution with location $a$ and scale $b$ is: $\\frac{e^{ta}}{1-b^2t^2}$.\n",
    "\n",
    "Hence the two distributions are the same. \n",
    "\n",
    "\n",
    "## (b)\n",
    "\n",
    "In order to find a distribution, we need to use the inverse of the CDF of the Laplace Distribution, or use the definition of Y explained in Problem 1(a)."
   ]
  },
  {
   "cell_type": "code",
   "execution_count": 29,
   "metadata": {},
   "outputs": [],
   "source": [
    "myrlaplace <- function(n, location, scale){\n",
    "#     x<- runif(n, min = -0.5, max=0.5)\n",
    "#     y = location - scale*sign(x)*log(1-2*abs(x))\n",
    "    \n",
    "    x<-rexp(n, 1)\n",
    "    u<-sample(x=c(-1,1), size = n, replace = TRUE)\n",
    "    y = location+scale*u*x\n",
    "}\n",
    "        "
   ]
  },
  {
   "cell_type": "code",
   "execution_count": 30,
   "metadata": {},
   "outputs": [
    {
     "data": {
      "image/png": "[encoded data removed]",
      "text/plain": [
       "Plot with title \"Histogram of y_test\""
      ]
     },
     "metadata": {},
     "output_type": "display_data"
    }
   ],
   "source": [
    "library(rmutil)\n",
    "y_test = myrlaplace(2000, 50, 10)\n",
    "hist(y_test, nclass = 100, freq = FALSE, ylim = c(0,0.055))\n",
    "curve(dlaplace(x, 50, 10), add = TRUE, col = \"blue\")\n"
   ]
  },
  {
   "cell_type": "code",
   "execution_count": 31,
   "metadata": {},
   "outputs": [
    {
     "data": {
      "text/html": [
       "49.8946022172419"
      ],
      "text/latex": [
       "49.8946022172419"
      ],
      "text/markdown": [
       "49.8946022172419"
      ],
      "text/plain": [
       "[1] 49.8946"
      ]
     },
     "metadata": {},
     "output_type": "display_data"
    },
    {
     "data": {
      "text/html": [
       "198.307581600797"
      ],
      "text/latex": [
       "198.307581600797"
      ],
      "text/markdown": [
       "198.307581600797"
      ],
      "text/plain": [
       "[1] 198.3076"
      ]
     },
     "metadata": {},
     "output_type": "display_data"
    }
   ],
   "source": [
    "mean(y_test)\n",
    "var(y_test)"
   ]
  },
  {
   "cell_type": "markdown",
   "metadata": {},
   "source": [
    "The theoretical mean is $\\mu = a = 50$, which is very close to our sample mean.\n",
    "\n",
    "The theoretical variance is $\\sigma^2 = 2b^2 = 200$ which again is very close to the sample variance."
   ]
  },
  {
   "cell_type": "code",
   "execution_count": 32,
   "metadata": {},
   "outputs": [
    {
     "data": {
      "text/html": [
       "49.9460331816226"
      ],
      "text/latex": [
       "49.9460331816226"
      ],
      "text/markdown": [
       "49.9460331816226"
      ],
      "text/plain": [
       "[1] 49.94603"
      ]
     },
     "metadata": {},
     "output_type": "display_data"
    },
    {
     "data": {
      "text/html": [
       "10.1533533619423"
      ],
      "text/latex": [
       "10.1533533619423"
      ],
      "text/markdown": [
       "10.1533533619423"
      ],
      "text/plain": [
       "[1] 10.15335"
      ]
     },
     "metadata": {},
     "output_type": "display_data"
    }
   ],
   "source": [
    "median(y_test)\n",
    "mean(abs(y_test - median(y_test)))\n"
   ]
  },
  {
   "cell_type": "markdown",
   "metadata": {},
   "source": [
    "The sample median is the MLE estimate of the parameter $a$, which very close to the actual value of $a=50$.\n",
    "The sample mean absolute deviation from the median is the MLE of $\\hat{b}$, which again is very close to the actual value of $b = 10$."
   ]
  },
  {
   "cell_type": "markdown",
   "metadata": {},
   "source": [
    "# Problem 2\n",
    "\n",
    "## (a)"
   ]
  },
  {
   "cell_type": "code",
   "execution_count": 65,
   "metadata": {},
   "outputs": [
    {
     "ename": "ERROR",
     "evalue": "Error in setwd(\"../dkout/Downloads/\"): cannot change working directory\n",
     "output_type": "error",
     "traceback": [
      "Error in setwd(\"../dkout/Downloads/\"): cannot change working directory\nTraceback:\n",
      "1. setwd(\"../dkout/Downloads/\")"
     ]
    }
   ],
   "source": [
    "# install.packages(\"zoo\")\n",
    "library(zoo)\n",
    "setwd(\"../dkout/Downloads/\")\n",
    "SP500<- read.zoo(file=\"SP500.csv\")\n",
    "y <- diff(log(SP500))\n",
    "n0 = length(y)\n",
    "location.mle = median(y)\n",
    "scale.mle = mean(abs(y-location.mle))\n",
    "cat(\"\\n \", n0, location.mle, scale.mle, \"\\n\")"
   ]
  },
  {
   "cell_type": "code",
   "execution_count": 66,
   "metadata": {},
   "outputs": [],
   "source": [
    "LRSv = c()\n",
    "for (i in 1:2000){\n",
    "    n0 = 439\n",
    "    a0 = 0.00035\n",
    "    b0 = 0.006029\n",
    "    y_star = myrlaplace(n0, a0, b0)\n",
    "\n",
    "    a_star = median(y_star)\n",
    "    b_star = mean(abs(y_star - median(y_star)))\n",
    "    theta_star = c(a_star, b_star)\n",
    "#     theta_star\n",
    "    l_star = sum(log(dlaplace(y_star, a_star, b_star)))\n",
    "    l_0 = sum(log(dlaplace(y_star, a0, b0)))\n",
    "    LRStat = 2*(l_star - l_0)\n",
    "#     LRStat\n",
    "    LRSv[i] = LRStat\n",
    "}\n"
   ]
  },
  {
   "cell_type": "code",
   "execution_count": 67,
   "metadata": {},
   "outputs": [
    {
     "data": {
      "image/png": "[encoded data removed]",
      "text/plain": [
       "Plot with title \"Histogram of LRSv\""
      ]
     },
     "metadata": {},
     "output_type": "display_data"
    }
   ],
   "source": [
    "hist(LRSv, freq = FALSE, nclass = 100, ylim = c(0, 0.6))\n",
    "curve(dchisq(x, df=2), add = TRUE, col = \"blue\")"
   ]
  },
  {
   "cell_type": "markdown",
   "metadata": {},
   "source": [
    "Since the blue curve follows the histogram relatively closely, we can say that the density of a Chi-squared distribution with 2 degrees of freedom is a good fit. \n",
    "\n",
    "## (c)"
   ]
  },
  {
   "cell_type": "code",
   "execution_count": 68,
   "metadata": {},
   "outputs": [
    {
     "data": {
      "image/png": "[encoded data removed]",
      "text/plain": [
       "Plot with title \"Histogram of pvals\""
      ]
     },
     "metadata": {},
     "output_type": "display_data"
    }
   ],
   "source": [
    "pvals = 1-pchisq(LRSv, df = 2)\n",
    "hist(pvals, freq = FALSE, nclass = 50)\n",
    "curve(dunif(x, 0, 1), col = \"blue\", add = TRUE)"
   ]
  },
  {
   "cell_type": "markdown",
   "metadata": {},
   "source": [
    "# Problem 3\n"
   ]
  },
  {
   "cell_type": "code",
   "execution_count": 69,
   "metadata": {},
   "outputs": [
    {
     "name": "stdout",
     "output_type": "stream",
     "text": [
      "\n",
      "  439 4.361316e-05 0.00840262 \n"
     ]
    }
   ],
   "source": [
    "\n",
    "mean.mle = mean(y)\n",
    "sd.mle = sqrt((n0-1)*var(y)/n0)\n",
    "cat(\"\\n \", n0, mean.mle, sd.mle, \"\\n\")"
   ]
  },
  {
   "cell_type": "code",
   "execution_count": 70,
   "metadata": {},
   "outputs": [],
   "source": [
    "LRSv = c()\n",
    "for (i in 1:2000){\n",
    "    n0 = 439\n",
    "    m0 = 0.0000436\n",
    "    sd0 = 0.0084\n",
    "    y_star = rnorm(n0, m0, sd0)\n",
    "\n",
    "    m_star = mean(y_star)\n",
    "    sd_star = sqrt(mean((y_star-m_star)^2))\n",
    "    theta_star = c(a_star, b_star)\n",
    "#     theta_star\n",
    "    l_star = sum(log(dnorm(y_star, m_star, sd_star)))\n",
    "    l_0 = sum(log(dnorm(y_star, m0, sd0)))\n",
    "    LRStat = 2*(l_star - l_0)\n",
    "#     LRStat\n",
    "    LRSv[i] = LRStat\n",
    "    }\n"
   ]
  },
  {
   "cell_type": "code",
   "execution_count": 71,
   "metadata": {},
   "outputs": [
    {
     "data": {
      "image/png": "[encoded data removed]",
      "text/plain": [
       "Plot with title \"Histogram of LRSv\""
      ]
     },
     "metadata": {},
     "output_type": "display_data"
    }
   ],
   "source": [
    "hist(LRSv, freq = FALSE, nclass = 100, ylim = c(0, 0.6))\n",
    "curve(dchisq(x, df=2), add = TRUE, col = \"blue\")"
   ]
  },
  {
   "cell_type": "markdown",
   "metadata": {},
   "source": [
    "Since the blue curve very closely follows the histogram, we can say that the density of a Chi-squared distribution with 2 degrees of freedom is a good fit. \n",
    "\n",
    "## (c)"
   ]
  },
  {
   "cell_type": "code",
   "execution_count": 72,
   "metadata": {},
   "outputs": [
    {
     "data": {
      "image/png": "[encoded data removed]",
      "text/plain": [
       "Plot with title \"Histogram of pvals\""
      ]
     },
     "metadata": {},
     "output_type": "display_data"
    }
   ],
   "source": [
    "pvals = pchisq(LRSv, df = 2)\n",
    "hist(pvals, freq = FALSE, nclass = 50)\n",
    "curve(dunif(x, 0, 1), col = \"blue\", add = TRUE)"
   ]
  },
  {
   "cell_type": "markdown",
   "metadata": {},
   "source": [
    "# Problem 4 \n",
    "## (a)\n"
   ]
  },
  {
   "cell_type": "code",
   "execution_count": 73,
   "metadata": {
    "code_folding": []
   },
   "outputs": [
    {
     "name": "stdout",
     "output_type": "stream",
     "text": [
      "\n",
      "  439 0.0003495251 0.006028806 \n"
     ]
    }
   ],
   "source": [
    "location.mle = median(y)\n",
    "scale.mle = mean(abs(y-location.mle))\n",
    "cat(\"\\n \", n0, location.mle, scale.mle, \"\\n\")\n",
    "\n",
    "LRSv = c()\n",
    "for (i in 1:2000){\n",
    "    \n",
    "    n0 = 439\n",
    "    a0 = 0.00035\n",
    "    b0 = 0.006029\n",
    "    y_star = myrlaplace(n0, a0, b0)\n",
    "\n",
    "    a_star = median(y_star)\n",
    "    b_star = mean(abs(y_star - median(y_star)))\n",
    "    theta_star = c(a_star, b_star)\n",
    "#     theta_star\n",
    "    l_theta = sum(log(dlaplace(y_star, a_star, b_star)))\n",
    "    \n",
    "    \n",
    "\n",
    "    m_star = mean(y_star)\n",
    "    sd_star = sqrt(mean((y-m_star)^2))\n",
    "    l_phi = sum(log(dnorm(y_star, m_star, sd_star)))\n",
    "    LRStat = 2*(l_phi - l_theta)\n",
    "#     LRStat\n",
    "    LRSv[i] = LRStat\n",
    "    \n",
    "    \n",
    "}\n",
    "\n"
   ]
  },
  {
   "cell_type": "markdown",
   "metadata": {},
   "source": [
    "## (b)"
   ]
  },
  {
   "cell_type": "code",
   "execution_count": 74,
   "metadata": {},
   "outputs": [
    {
     "data": {
      "image/png": "[encoded data removed]",
      "text/plain": [
       "Plot with title \"Histogram of LRSv\""
      ]
     },
     "metadata": {},
     "output_type": "display_data"
    }
   ],
   "source": [
    "hist(LRSv, nclass = 100, freq = FALSE)\n"
   ]
  },
  {
   "cell_type": "markdown",
   "metadata": {},
   "source": [
    "## (c)"
   ]
  },
  {
   "cell_type": "code",
   "execution_count": 75,
   "metadata": {},
   "outputs": [
    {
     "data": {
      "text/html": [
       "-50.7360197480102"
      ],
      "text/latex": [
       "-50.7360197480102"
      ],
      "text/markdown": [
       "-50.7360197480102"
      ],
      "text/plain": [
       "[1] -50.73602"
      ]
     },
     "metadata": {},
     "output_type": "display_data"
    }
   ],
   "source": [
    "ll_star = sum(log(dlaplace(y, a0, b0)))\n",
    "ln_star = sum(log(dnorm(y, m0, sd0)))\n",
    "LRStat = 2*(ln_star - ll_star)\n",
    "LRStat"
   ]
  },
  {
   "cell_type": "markdown",
   "metadata": {},
   "source": [
    "## (d)"
   ]
  },
  {
   "cell_type": "code",
   "execution_count": 76,
   "metadata": {},
   "outputs": [
    {
     "name": "stdout",
     "output_type": "stream",
     "text": [
      "\n",
      "  439 0.0003495251 0.006028806 \n"
     ]
    },
    {
     "data": {
      "image/png": "[encoded data removed]",
      "text/plain": [
       "Plot with title \"Histogram of LRSv\""
      ]
     },
     "metadata": {},
     "output_type": "display_data"
    }
   ],
   "source": [
    "location.mle = median(y)\n",
    "scale.mle = mean(abs(y-location.mle))\n",
    "cat(\"\\n \", n0, location.mle, scale.mle, \"\\n\")\n",
    "\n",
    "LRSv = c()\n",
    "for (i in 1:2000){\n",
    "    \n",
    "    n0 = 439\n",
    "    a0 = 0.00035\n",
    "    b0 = 0.006029\n",
    "    y_star = myrlaplace(n0, a0, b0)\n",
    "\n",
    "    a_star = median(y_star)\n",
    "    b_star = mean(abs(y_star - median(y_star)))\n",
    "    theta_star = c(a_star, b_star)\n",
    "#     theta_star\n",
    "    l_theta = sum(log(dlaplace(y_star, a_star, b_star)))\n",
    "    \n",
    "    \n",
    "\n",
    "    m_star = mean(y_star)\n",
    "    sd_star = sqrt(mean((y-m_star)^2))\n",
    "    l_phi = sum(log(dnorm(y_star, m_star, sd_star)))\n",
    "    LRStat = 2*(l_theta - l_phi)\n",
    "#     LRStat\n",
    "    LRSv[i] = LRStat\n",
    "    \n",
    "    \n",
    "}\n",
    "\n",
    "hist(LRSv, nclass = 100, freq = FALSE)"
   ]
  },
  {
   "cell_type": "markdown",
   "metadata": {},
   "source": [
    "# Problem 5\n",
    "## (a)\n"
   ]
  },
  {
   "cell_type": "code",
   "execution_count": 77,
   "metadata": {},
   "outputs": [
    {
     "data": {
      "text/html": [
       "<ol class=list-inline>\n",
       "\t<li>7128</li>\n",
       "\t<li>72</li>\n",
       "</ol>\n"
      ],
      "text/latex": [
       "\\begin{enumerate*}\n",
       "\\item 7128\n",
       "\\item 72\n",
       "\\end{enumerate*}\n"
      ],
      "text/markdown": [
       "1. 7128\n",
       "2. 72\n",
       "\n",
       "\n"
      ],
      "text/plain": [
       "[1] 7128   72"
      ]
     },
     "metadata": {},
     "output_type": "display_data"
    },
    {
     "data": {
      "text/html": [
       "<ol class=list-inline>\n",
       "\t<li>'ALL'</li>\n",
       "\t<li>'ALL.1'</li>\n",
       "\t<li>'ALL.2'</li>\n",
       "\t<li>'ALL.3'</li>\n",
       "\t<li>'ALL.4'</li>\n",
       "\t<li>'ALL.5'</li>\n",
       "\t<li>'ALL.6'</li>\n",
       "\t<li>'ALL.7'</li>\n",
       "\t<li>'ALL.8'</li>\n",
       "\t<li>'ALL.9'</li>\n",
       "\t<li>'ALL.10'</li>\n",
       "\t<li>'ALL.11'</li>\n",
       "\t<li>'ALL.12'</li>\n",
       "\t<li>'ALL.13'</li>\n",
       "\t<li>'ALL.14'</li>\n",
       "\t<li>'ALL.15'</li>\n",
       "\t<li>'ALL.16'</li>\n",
       "\t<li>'ALL.17'</li>\n",
       "\t<li>'ALL.18'</li>\n",
       "\t<li>'ALL.19'</li>\n",
       "\t<li>'AML'</li>\n",
       "\t<li>'AML.1'</li>\n",
       "\t<li>'AML.2'</li>\n",
       "\t<li>'AML.3'</li>\n",
       "\t<li>'AML.4'</li>\n",
       "\t<li>'AML.5'</li>\n",
       "\t<li>'AML.6'</li>\n",
       "\t<li>'AML.7'</li>\n",
       "\t<li>'AML.8'</li>\n",
       "\t<li>'AML.9'</li>\n",
       "\t<li>'AML.10'</li>\n",
       "\t<li>'AML.11'</li>\n",
       "\t<li>'AML.12'</li>\n",
       "\t<li>'AML.13'</li>\n",
       "\t<li>'ALL.20'</li>\n",
       "\t<li>'ALL.21'</li>\n",
       "\t<li>'ALL.22'</li>\n",
       "\t<li>'ALL.23'</li>\n",
       "\t<li>'ALL.24'</li>\n",
       "\t<li>'ALL.25'</li>\n",
       "\t<li>'ALL.26'</li>\n",
       "\t<li>'ALL.27'</li>\n",
       "\t<li>'ALL.28'</li>\n",
       "\t<li>'ALL.29'</li>\n",
       "\t<li>'ALL.30'</li>\n",
       "\t<li>'ALL.31'</li>\n",
       "\t<li>'ALL.32'</li>\n",
       "\t<li>'ALL.33'</li>\n",
       "\t<li>'ALL.34'</li>\n",
       "\t<li>'ALL.35'</li>\n",
       "\t<li>'ALL.36'</li>\n",
       "\t<li>'ALL.37'</li>\n",
       "\t<li>'ALL.38'</li>\n",
       "\t<li>'ALL.39'</li>\n",
       "\t<li>'ALL.40'</li>\n",
       "\t<li>'ALL.41'</li>\n",
       "\t<li>'ALL.42'</li>\n",
       "\t<li>'ALL.43'</li>\n",
       "\t<li>'ALL.44'</li>\n",
       "\t<li>'ALL.45'</li>\n",
       "\t<li>'ALL.46'</li>\n",
       "\t<li>'AML.14'</li>\n",
       "\t<li>'AML.15'</li>\n",
       "\t<li>'AML.16'</li>\n",
       "\t<li>'AML.17'</li>\n",
       "\t<li>'AML.18'</li>\n",
       "\t<li>'AML.19'</li>\n",
       "\t<li>'AML.20'</li>\n",
       "\t<li>'AML.21'</li>\n",
       "\t<li>'AML.22'</li>\n",
       "\t<li>'AML.23'</li>\n",
       "\t<li>'AML.24'</li>\n",
       "</ol>\n"
      ],
      "text/latex": [
       "\\begin{enumerate*}\n",
       "\\item 'ALL'\n",
       "\\item 'ALL.1'\n",
       "\\item 'ALL.2'\n",
       "\\item 'ALL.3'\n",
       "\\item 'ALL.4'\n",
       "\\item 'ALL.5'\n",
       "\\item 'ALL.6'\n",
       "\\item 'ALL.7'\n",
       "\\item 'ALL.8'\n",
       "\\item 'ALL.9'\n",
       "\\item 'ALL.10'\n",
       "\\item 'ALL.11'\n",
       "\\item 'ALL.12'\n",
       "\\item 'ALL.13'\n",
       "\\item 'ALL.14'\n",
       "\\item 'ALL.15'\n",
       "\\item 'ALL.16'\n",
       "\\item 'ALL.17'\n",
       "\\item 'ALL.18'\n",
       "\\item 'ALL.19'\n",
       "\\item 'AML'\n",
       "\\item 'AML.1'\n",
       "\\item 'AML.2'\n",
       "\\item 'AML.3'\n",
       "\\item 'AML.4'\n",
       "\\item 'AML.5'\n",
       "\\item 'AML.6'\n",
       "\\item 'AML.7'\n",
       "\\item 'AML.8'\n",
       "\\item 'AML.9'\n",
       "\\item 'AML.10'\n",
       "\\item 'AML.11'\n",
       "\\item 'AML.12'\n",
       "\\item 'AML.13'\n",
       "\\item 'ALL.20'\n",
       "\\item 'ALL.21'\n",
       "\\item 'ALL.22'\n",
       "\\item 'ALL.23'\n",
       "\\item 'ALL.24'\n",
       "\\item 'ALL.25'\n",
       "\\item 'ALL.26'\n",
       "\\item 'ALL.27'\n",
       "\\item 'ALL.28'\n",
       "\\item 'ALL.29'\n",
       "\\item 'ALL.30'\n",
       "\\item 'ALL.31'\n",
       "\\item 'ALL.32'\n",
       "\\item 'ALL.33'\n",
       "\\item 'ALL.34'\n",
       "\\item 'ALL.35'\n",
       "\\item 'ALL.36'\n",
       "\\item 'ALL.37'\n",
       "\\item 'ALL.38'\n",
       "\\item 'ALL.39'\n",
       "\\item 'ALL.40'\n",
       "\\item 'ALL.41'\n",
       "\\item 'ALL.42'\n",
       "\\item 'ALL.43'\n",
       "\\item 'ALL.44'\n",
       "\\item 'ALL.45'\n",
       "\\item 'ALL.46'\n",
       "\\item 'AML.14'\n",
       "\\item 'AML.15'\n",
       "\\item 'AML.16'\n",
       "\\item 'AML.17'\n",
       "\\item 'AML.18'\n",
       "\\item 'AML.19'\n",
       "\\item 'AML.20'\n",
       "\\item 'AML.21'\n",
       "\\item 'AML.22'\n",
       "\\item 'AML.23'\n",
       "\\item 'AML.24'\n",
       "\\end{enumerate*}\n"
      ],
      "text/markdown": [
       "1. 'ALL'\n",
       "2. 'ALL.1'\n",
       "3. 'ALL.2'\n",
       "4. 'ALL.3'\n",
       "5. 'ALL.4'\n",
       "6. 'ALL.5'\n",
       "7. 'ALL.6'\n",
       "8. 'ALL.7'\n",
       "9. 'ALL.8'\n",
       "10. 'ALL.9'\n",
       "11. 'ALL.10'\n",
       "12. 'ALL.11'\n",
       "13. 'ALL.12'\n",
       "14. 'ALL.13'\n",
       "15. 'ALL.14'\n",
       "16. 'ALL.15'\n",
       "17. 'ALL.16'\n",
       "18. 'ALL.17'\n",
       "19. 'ALL.18'\n",
       "20. 'ALL.19'\n",
       "21. 'AML'\n",
       "22. 'AML.1'\n",
       "23. 'AML.2'\n",
       "24. 'AML.3'\n",
       "25. 'AML.4'\n",
       "26. 'AML.5'\n",
       "27. 'AML.6'\n",
       "28. 'AML.7'\n",
       "29. 'AML.8'\n",
       "30. 'AML.9'\n",
       "31. 'AML.10'\n",
       "32. 'AML.11'\n",
       "33. 'AML.12'\n",
       "34. 'AML.13'\n",
       "35. 'ALL.20'\n",
       "36. 'ALL.21'\n",
       "37. 'ALL.22'\n",
       "38. 'ALL.23'\n",
       "39. 'ALL.24'\n",
       "40. 'ALL.25'\n",
       "41. 'ALL.26'\n",
       "42. 'ALL.27'\n",
       "43. 'ALL.28'\n",
       "44. 'ALL.29'\n",
       "45. 'ALL.30'\n",
       "46. 'ALL.31'\n",
       "47. 'ALL.32'\n",
       "48. 'ALL.33'\n",
       "49. 'ALL.34'\n",
       "50. 'ALL.35'\n",
       "51. 'ALL.36'\n",
       "52. 'ALL.37'\n",
       "53. 'ALL.38'\n",
       "54. 'ALL.39'\n",
       "55. 'ALL.40'\n",
       "56. 'ALL.41'\n",
       "57. 'ALL.42'\n",
       "58. 'ALL.43'\n",
       "59. 'ALL.44'\n",
       "60. 'ALL.45'\n",
       "61. 'ALL.46'\n",
       "62. 'AML.14'\n",
       "63. 'AML.15'\n",
       "64. 'AML.16'\n",
       "65. 'AML.17'\n",
       "66. 'AML.18'\n",
       "67. 'AML.19'\n",
       "68. 'AML.20'\n",
       "69. 'AML.21'\n",
       "70. 'AML.22'\n",
       "71. 'AML.23'\n",
       "72. 'AML.24'\n",
       "\n",
       "\n"
      ],
      "text/plain": [
       " [1] \"ALL\"    \"ALL.1\"  \"ALL.2\"  \"ALL.3\"  \"ALL.4\"  \"ALL.5\"  \"ALL.6\"  \"ALL.7\" \n",
       " [9] \"ALL.8\"  \"ALL.9\"  \"ALL.10\" \"ALL.11\" \"ALL.12\" \"ALL.13\" \"ALL.14\" \"ALL.15\"\n",
       "[17] \"ALL.16\" \"ALL.17\" \"ALL.18\" \"ALL.19\" \"AML\"    \"AML.1\"  \"AML.2\"  \"AML.3\" \n",
       "[25] \"AML.4\"  \"AML.5\"  \"AML.6\"  \"AML.7\"  \"AML.8\"  \"AML.9\"  \"AML.10\" \"AML.11\"\n",
       "[33] \"AML.12\" \"AML.13\" \"ALL.20\" \"ALL.21\" \"ALL.22\" \"ALL.23\" \"ALL.24\" \"ALL.25\"\n",
       "[41] \"ALL.26\" \"ALL.27\" \"ALL.28\" \"ALL.29\" \"ALL.30\" \"ALL.31\" \"ALL.32\" \"ALL.33\"\n",
       "[49] \"ALL.34\" \"ALL.35\" \"ALL.36\" \"ALL.37\" \"ALL.38\" \"ALL.39\" \"ALL.40\" \"ALL.41\"\n",
       "[57] \"ALL.42\" \"ALL.43\" \"ALL.44\" \"ALL.45\" \"ALL.46\" \"AML.14\" \"AML.15\" \"AML.16\"\n",
       "[65] \"AML.17\" \"AML.18\" \"AML.19\" \"AML.20\" \"AML.21\" \"AML.22\" \"AML.23\" \"AML.24\""
      ]
     },
     "metadata": {},
     "output_type": "display_data"
    }
   ],
   "source": [
    "leukemia_big <- read.csv(file = \"./pset5/pset5//EfronData/leukemia_big.csv\")\n",
    "dim(leukemia_big)\n",
    "names(leukemia_big)"
   ]
  },
  {
   "cell_type": "code",
   "execution_count": 78,
   "metadata": {},
   "outputs": [],
   "source": [
    "leukemiaType<-as.factor(substring(names(leukemia_big), first=1,last=3)) \n",
    "genej<-as.numeric(t(leukemia_big[j<-136,])) \n",
    "genej.byType<-split(genej,leukemiaType)"
   ]
  },
  {
   "cell_type": "code",
   "execution_count": 79,
   "metadata": {},
   "outputs": [
    {
     "data": {
      "image/png": "[encoded data removed]",
      "text/plain": [
       "Plot with title \"Histogram of genej.byType$ALL\""
      ]
     },
     "metadata": {},
     "output_type": "display_data"
    }
   ],
   "source": [
    "hist(genej.byType$ALL, freq = FALSE, nclass  = 50, xlim = c(0,2), ylim = c(0,10), col = rgb(1,0.1,0.1,0.6))\n",
    "hist(genej.byType$AML, freq = FALSE, nclass = 50,  add = TRUE, col = rgb(0.1,0.1,1, 0.6))\n"
   ]
  },
  {
   "cell_type": "markdown",
   "metadata": {},
   "source": [
    "## (b)"
   ]
  },
  {
   "cell_type": "code",
   "execution_count": 80,
   "metadata": {},
   "outputs": [
    {
     "data": {
      "text/plain": [
       "\n",
       "\tTwo Sample t-test\n",
       "\n",
       "data:  genej.byType[[1]] and genej.byType[[2]]\n",
       "t = -3.014, df = 70, p-value = 0.003589\n",
       "alternative hypothesis: true difference in means is not equal to 0\n",
       "95 percent confidence interval:\n",
       " -0.32817995 -0.06680742\n",
       "sample estimates:\n",
       "mean of x mean of y \n",
       "0.7524794 0.9499731 \n"
      ]
     },
     "metadata": {},
     "output_type": "display_data"
    },
    {
     "data": {
      "text/html": [
       "<ol class=list-inline>\n",
       "\t<li>'statistic'</li>\n",
       "\t<li>'parameter'</li>\n",
       "\t<li>'p.value'</li>\n",
       "\t<li>'conf.int'</li>\n",
       "\t<li>'estimate'</li>\n",
       "\t<li>'null.value'</li>\n",
       "\t<li>'alternative'</li>\n",
       "\t<li>'method'</li>\n",
       "\t<li>'data.name'</li>\n",
       "</ol>\n"
      ],
      "text/latex": [
       "\\begin{enumerate*}\n",
       "\\item 'statistic'\n",
       "\\item 'parameter'\n",
       "\\item 'p.value'\n",
       "\\item 'conf.int'\n",
       "\\item 'estimate'\n",
       "\\item 'null.value'\n",
       "\\item 'alternative'\n",
       "\\item 'method'\n",
       "\\item 'data.name'\n",
       "\\end{enumerate*}\n"
      ],
      "text/markdown": [
       "1. 'statistic'\n",
       "2. 'parameter'\n",
       "3. 'p.value'\n",
       "4. 'conf.int'\n",
       "5. 'estimate'\n",
       "6. 'null.value'\n",
       "7. 'alternative'\n",
       "8. 'method'\n",
       "9. 'data.name'\n",
       "\n",
       "\n"
      ],
      "text/plain": [
       "[1] \"statistic\"   \"parameter\"   \"p.value\"     \"conf.int\"    \"estimate\"   \n",
       "[6] \"null.value\"  \"alternative\" \"method\"      \"data.name\"  "
      ]
     },
     "metadata": {},
     "output_type": "display_data"
    }
   ],
   "source": [
    "genej.ttest <- t.test(genej.byType[[1]], genej.byType[[2]], var.equal = TRUE)\n",
    "\n",
    "genej.ttest\n",
    "names(genej.ttest)\n"
   ]
  },
  {
   "cell_type": "code",
   "execution_count": 81,
   "metadata": {},
   "outputs": [],
   "source": [
    "library(perm)\n",
    "mytwosample.exact.mc<-function (gene1, gene2, alternative = \"two.sided\", nmc = 10^4, seed = 1234321, digits = 12, p.conf.level = 0.99, setSEED = TRUE){\n",
    "    t0.test<-t.test(gene1, gene2,var.equal=TRUE)\n",
    "    t0 <-t0.test$statistic\n",
    "    N <- nmc\n",
    "    if (setSEED)\n",
    "        set.seed(seed)\n",
    "    ti <- rep(NA, N)\n",
    "    for (i in 1:N) {\n",
    "        perms = sample(c(gene1, gene2))\n",
    "        ti.test<-t.test(perms[1:length(gene1)], perms[length(gene1)+1:length(gene2)], var.equal=TRUE)\n",
    "        ti[i] <- ti.test$statistic\n",
    "#         print(ti.test)\n",
    "    }\n",
    "    out <- calcPvalsMC(ti, t0, digits, alternative, FALSE, p.conf.level)\n",
    "    result<-list(t0=t0, ti=ti, out=out)\n",
    "}"
   ]
  },
  {
   "cell_type": "code",
   "execution_count": 82,
   "metadata": {},
   "outputs": [],
   "source": [
    "genej.permTest <- mytwosample.exact.mc(genej.byType[[1]], genej.byType[[2]])"
   ]
  },
  {
   "cell_type": "code",
   "execution_count": 83,
   "metadata": {},
   "outputs": [
    {
     "data": {
      "image/png": "[encoded data removed]",
      "text/plain": [
       "Plot with title \"Permutation Distribution\n",
       "Test Statistic = -3.014\n",
       "P-value = 0.0035\""
      ]
     },
     "metadata": {},
     "output_type": "display_data"
    }
   ],
   "source": [
    "genej.pvalue<-mean(abs(genej.permTest$ti) >=abs(genej.permTest$t0))\n",
    "hist(genej.permTest$ti,nclass=100,xlab=\"Statistic\",main=paste(c(\"Permutation Distribution\\n\",\"Test Statistic = \", as.character(round(genej.permTest$t0,digits=4)),\"\\n\",\"P-value = \",as.character(round(genej.pvalue,digits=4))), collapse=\"\"))\n",
    "abline(v=genej.permTest$t0,col='blue',lwd=3)"
   ]
  },
  {
   "cell_type": "markdown",
   "metadata": {},
   "source": [
    "## (c)"
   ]
  },
  {
   "cell_type": "code",
   "execution_count": 84,
   "metadata": {},
   "outputs": [
    {
     "data": {
      "text/plain": [
       "\n",
       "\tAsymptotic General Independence Test\n",
       "\n",
       "data:  genej by leukemiaType (ALL, AML)\n",
       "Z = -2.8558, p-value = 0.004293\n",
       "alternative hypothesis: two.sided\n"
      ]
     },
     "metadata": {},
     "output_type": "display_data"
    }
   ],
   "source": [
    "library(coin)\n",
    "group<-c(rep(0,times=25),rep(1,times=47))\n",
    "independence_test(genej ~ leukemiaType)"
   ]
  },
  {
   "cell_type": "markdown",
   "metadata": {},
   "source": [
    "## (d)"
   ]
  },
  {
   "cell_type": "code",
   "execution_count": 85,
   "metadata": {},
   "outputs": [
    {
     "data": {
      "text/plain": [
       "\n",
       "\tPermutation Test using Asymptotic Approximation\n",
       "\n",
       "data:  genej by leukemiaType\n",
       "Z = -2.8558, p-value = 0.004293\n",
       "alternative hypothesis: true mean leukemiaType=ALL - mean leukemiaType=AML is not equal to 0\n",
       "sample estimates:\n",
       "mean leukemiaType=ALL - mean leukemiaType=AML \n",
       "                                   -0.1974937 \n"
      ]
     },
     "metadata": {},
     "output_type": "display_data"
    }
   ],
   "source": [
    "permTS(genej~leukemiaType)"
   ]
  },
  {
   "cell_type": "markdown",
   "metadata": {},
   "source": [
    "## (e)\n",
    "It seems that the pvalues are close enough, thus the results are relatively consistent.\n",
    "\n",
    "\n",
    "## (f)"
   ]
  },
  {
   "cell_type": "code",
   "execution_count": 86,
   "metadata": {},
   "outputs": [],
   "source": [
    "test_vec = c()\n",
    "for (i in 1:7128){\n",
    "   genej<-as.numeric(t(leukemia_big[j<-i,])) \n",
    "   genej.byType<-split(genej,leukemiaType)\n",
    "   genej.ttest <- t.test(genej.byType[[1]], genej.byType[[2]], var.equal = TRUE)\n",
    "   test_vec[i] = genej.ttest$statistic\n",
    " \n",
    "}"
   ]
  },
  {
   "cell_type": "code",
   "execution_count": 88,
   "metadata": {},
   "outputs": [
    {
     "data": {
      "image/png": "[encoded data removed]",
      "text/plain": [
       "Plot with title \"Histogram of test_vec\""
      ]
     },
     "metadata": {},
     "output_type": "display_data"
    }
   ],
   "source": [
    "options(warn=-1)\n",
    "\n",
    "hist(test_vec, freq = F, nclass  = 100, ylim = c(0,0.4))\n",
    "abline(v=genej.permTest$t0,col='blue',lwd=3)\n",
    "curve(dt(x, 70, 0), add = T, col = \"red\", lwd = 2)"
   ]
  },
  {
   "cell_type": "code",
   "execution_count": 94,
   "metadata": {},
   "outputs": [
    {
     "data": {
      "image/png": "[encoded data removed]",
      "text/plain": [
       "Plot with title \"Histogram of test_vec\""
      ]
     },
     "metadata": {},
     "output_type": "display_data"
    }
   ],
   "source": [
    "\n",
    "hist(test_vec, freq = F, nclass  = 100, ylim = c(0,0.25))\n",
    "abline(v=genej.permTest$t0,col='blue',lwd=3)\n",
    "curve(0.52*dt(x, 70, 0), add = T, col = \"red\", lwd = 2)"
   ]
  },
  {
   "cell_type": "markdown",
   "metadata": {},
   "source": [
    "From the graph above, it seems the value of $\\pi_0$ can be at most around 0.5."
   ]
  },
  {
   "cell_type": "code",
   "execution_count": null,
   "metadata": {},
   "outputs": [],
   "source": []
  },
  {
   "cell_type": "code",
   "execution_count": null,
   "metadata": {},
   "outputs": [],
   "source": []
  }
 ],
 "metadata": {
  "author": "",
  "kernelspec": {
   "display_name": "R",
   "language": "R",
   "name": "ir"
  },
  "language_info": {
   "codemirror_mode": "r",
   "file_extension": ".r",
   "mimetype": "text/x-r-source",
   "name": "R",
   "pygments_lexer": "r",
   "version": "3.4.3"
  },
  "latex_envs": {
   "LaTeX_envs_menu_present": true,
   "autoclose": false,
   "autocomplete": true,
   "bibliofile": "biblio.bib",
   "cite_by": "apalike",
   "current_citInitial": 1,
   "eqLabelWithNumbers": true,
   "eqNumInitial": 1,
   "hotkeys": {
    "equation": "Ctrl-E",
    "itemize": "Ctrl-I"
   },
   "labels_anchors": false,
   "latex_user_defs": false,
   "report_style_numbering": false,
   "user_envs_cfg": false
  }
 },
 "nbformat": 4,
 "nbformat_minor": 2
}
