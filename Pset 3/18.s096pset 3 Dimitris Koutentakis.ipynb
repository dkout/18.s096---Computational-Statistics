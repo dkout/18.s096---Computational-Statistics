{
 "cells": [
  {
   "cell_type": "markdown",
   "metadata": {},
   "source": [
    "# Poblem 1\n",
    "\n",
    "## (a)\n",
    "\n",
    "The variable yi is a Bernoulli variable with $p=1-e^{-\\lambda}$ so $$f(y) = (1-e^{-\\lambda})^{-y}(e^{-\\lambda})^{1-y}$$\n",
    "Thus the Likelihood Function will be:\n",
    "\n",
    "\\begin{align}\n",
    "L(Y_1,...Y_n, \\lambda) &= \\prod_{i=1}^n(1-e^{-\\lambda})^{y_i}(e^{-\\lambda})^{1-y_i} \\\\\n",
    "&= e^{-\\lambda \\sum_{i=1}^n(1-y_i)} (1-e^{-\\lambda})^{\\sum_{i=1}^n y_i}\n",
    "\\end{align}\n",
    "\n",
    "Taking the logarithm, we get:\n",
    "\\begin{align}\n",
    "ln(Y_1,...Y_n, \\lambda) &= ln(e^{-\\lambda \\sum_{i=1}^n(1-y_i)} (1-e^{-\\lambda})^{\\sum_{i=1}^n y_i}) \\\\\n",
    "&= -\\lambda(n-\\sum_{i=1}^ny_i)+\\sum_{i=1}^ny_i ln(1-e^{-\\lambda})\n",
    "\\end{align}\n",
    "\n",
    "By taking the derivative and setting it to zero, we get:\n",
    "\n",
    "\\begin{align}\n",
    "0 &= \\sum_{i=1}^ny_i - n + \\sum_{i=1}^ny_i\\frac{1}{e^\\lambda_{MLE}-1} \\\\\n",
    "\\lambda_{MLE} &= ln\\Big(\\frac{\\sum_{i=1}^ny_i}{n-\\sum_{i=1}^ny_i}+1\\Big)\n",
    "\\end{align}\n",
    "\n",
    "## (b)\n"
   ]
  },
  {
   "cell_type": "code",
   "execution_count": 16,
   "metadata": {},
   "outputs": [],
   "source": [
    "options(warn=-1)\n",
    "\n",
    "nsamples=1000 \n",
    "samplesize=50\n",
    "r2_50 = matrix(rpois(nsamples*samplesize, lambda=2), nrow=samplesize, ncol=nsamples)\n",
    "r02_50 = matrix(rpois(nsamples*samplesize, lambda=0.2), nrow=samplesize, ncol=nsamples)\n",
    "samplesize=200\n",
    "r2_200 = matrix(rpois(nsamples*samplesize, lambda=2), nrow=samplesize, ncol=nsamples)\n",
    "r02_200 = matrix(rpois(nsamples*samplesize, lambda=0.2), nrow=samplesize, ncol=nsamples)\n",
    "\n",
    "r02_50_dist = colMeans(r02_50)\n",
    "r02_200_dist = colMeans(r02_200)\n",
    "r2_50_dist = colMeans(r2_50)\n",
    "r2_200_dist = colMeans(r2_200)\n"
   ]
  },
  {
   "cell_type": "code",
   "execution_count": 17,
   "metadata": {},
   "outputs": [],
   "source": [
    "r2_50_t = ifelse(r2_50!=0, 1,0)\n",
    "r2_200_t = ifelse(r2_200!=0, 1,0)\n",
    "r02_50_t = ifelse(r02_50!=0, 1,0)\n",
    "r02_200_t = ifelse(r02_200!=0, 1,0)\n",
    "\n",
    "r2_50_t_dist = colMeans(r2_50_t)\n",
    "r2_200_t_dist = colMeans(r2_200_t)\n",
    "r02_50_t_dist = colMeans(r02_50_t)\n",
    "r02_200_t_dist = colMeans(r02_200_t)\n"
   ]
  },
  {
   "cell_type": "code",
   "execution_count": 18,
   "metadata": {},
   "outputs": [],
   "source": [
    "r2_50_mle=1/50*(colSums(r2_50))\n",
    "r2_200_mle=1/200*(colSums(r2_200))\n",
    "r02_50_mle=1/50*(colSums(r02_50))\n",
    "r02_200_mle=1/200*(colSums(r02_200))\n",
    "\n",
    "r2_50_t_mle = log(colSums(r2_50_t)/(50-colSums(r2_50_t))+1)\n",
    "r2_200_t_mle = log(colSums(r2_200_t)/(200-colSums(r2_200_t))+1)\n",
    "r02_50_t_mle = log(colSums(r02_50_t)/(50-colSums(r02_50_t))+1)\n",
    "r02_200_t_mle = log(colSums(r02_200_t)/(200-colSums(r02_200_t))+1)\n"
   ]
  },
  {
   "cell_type": "code",
   "execution_count": null,
   "metadata": {},
   "outputs": [],
   "source": []
  },
  {
   "cell_type": "code",
   "execution_count": 19,
   "metadata": {},
   "outputs": [
    {
     "data": {
      "image/png": "[encoded data removed]",
      "text/plain": [
       "plot without title"
      ]
     },
     "metadata": {},
     "output_type": "display_data"
    },
    {
     "data": {
      "image/png": "[encoded data removed]",
      "text/plain": [
       "plot without title"
      ]
     },
     "metadata": {},
     "output_type": "display_data"
    }
   ],
   "source": [
    "boxplot(r2_50_mle, r02_50_mle, r2_200_mle, r02_200_mle)\n",
    "boxplot(r2_50_t_mle, r02_50_t_mle, r2_200_t_mle, r02_200_t_mle)"
   ]
  },
  {
   "cell_type": "code",
   "execution_count": 20,
   "metadata": {},
   "outputs": [
    {
     "name": "stdout",
     "output_type": "stream",
     "text": [
      "2.00308 2.00328 0.19742 0.198165 \n",
      "0.1959043 0.09936405 0.06035052 0.03226296\n",
      "\n",
      "Truncated MLE: \n",
      "\n",
      "2.064381 2.029564 0.1992984 0.1984418 \n",
      "0.4124002 0.1788553 0.06417971 0.03398784"
     ]
    }
   ],
   "source": [
    "cat(mean(r2_50_mle), mean(r2_200_mle), mean(r02_50_mle), mean(r02_200_mle), \"\\n\")\n",
    "cat(sd(r2_50_mle), sd(r2_200_mle), sd(r02_50_mle), sd(r02_200_mle))\n",
    "cat(\"\\n\\nTruncated MLE: \\n\\n\")\n",
    "cat(mean(r2_50_t_mle), mean(r2_200_t_mle), mean(r02_50_t_mle), mean(r02_200_t_mle), \"\\n\")\n",
    "cat(sd(r2_50_t_mle), sd(r2_200_t_mle), sd(r02_50_t_mle), sd(r02_200_t_mle))"
   ]
  },
  {
   "cell_type": "markdown",
   "metadata": {},
   "source": [
    "## (c)\n",
    "\n"
   ]
  },
  {
   "cell_type": "code",
   "execution_count": 21,
   "metadata": {},
   "outputs": [
    {
     "name": "stdout",
     "output_type": "stream",
     "text": [
      "0.308642 \n",
      "0.9010759 \n",
      "0.03837849 0.009873215 0.003642186 0.001040899 \n",
      "0.1700739 0.03198921 0.004119035 0.001155173 \n"
     ]
    }
   ],
   "source": [
    "cat(var(r2_200_mle)/var(r2_200_t_mle), \"\\n\")\n",
    "cat(var(r02_200_mle)/var(r02_200_t_mle), \"\\n\")\n",
    "cat(var(r2_50_mle), var(r2_200_mle), var(r02_50_mle), var(r02_200_mle),\"\\n\")\n",
    "cat(var(r2_50_t_mle), var(r2_200_t_mle), var(r02_50_t_mle), var(r02_200_t_mle),\"\\n\")"
   ]
  },
  {
   "cell_type": "markdown",
   "metadata": {},
   "source": [
    "We can see that the relative efficiency of the regular vs the truncated MLE estimator increases as $\\lambda$ drops and the absolute efficiency of both gets better (variance decreases) as the sample size increases, while it also improves whel $\\lambda$ decreases.\n"
   ]
  },
  {
   "cell_type": "markdown",
   "metadata": {},
   "source": [
    "# Problem 2\n",
    "\n",
    "## (a)"
   ]
  },
  {
   "cell_type": "code",
   "execution_count": 22,
   "metadata": {},
   "outputs": [],
   "source": [
    "library(MASS)\n",
    "set.seed(1)\n",
    "list.samplesize<-c(100,400,800,1600)\n",
    "for (samplesize in list.samplesize){assign(paste(\"sample.gamma\",samplesize,sep=\".\"),rgamma(samplesize, shape=3,rate=2))}\n",
    "mlefit.sample.gamma.100<-fitdistr(sample.gamma.100,densfun=\"gamma\")\n",
    "mlefit.sample.gamma.400<-fitdistr(sample.gamma.400,densfun=\"gamma\")\n",
    "mlefit.sample.gamma.800<-fitdistr(sample.gamma.800,densfun=\"gamma\")\n",
    "mlefit.sample.gamma.1600<-fitdistr(sample.gamma.1600,densfun=\"gamma\")"
   ]
  },
  {
   "cell_type": "markdown",
   "metadata": {},
   "source": [
    "## (2b)"
   ]
  },
  {
   "cell_type": "code",
   "execution_count": 23,
   "metadata": {},
   "outputs": [
    {
     "data": {
      "text/html": [
       "<dl class=dl-horizontal>\n",
       "\t<dt>shape</dt>\n",
       "\t\t<dd>0.510948047695206</dd>\n",
       "\t<dt>rate</dt>\n",
       "\t\t<dd>0.374878929040892</dd>\n",
       "</dl>\n"
      ],
      "text/latex": [
       "\\begin{description*}\n",
       "\\item[shape] 0.510948047695206\n",
       "\\item[rate] 0.374878929040892\n",
       "\\end{description*}\n"
      ],
      "text/markdown": [
       "shape\n",
       ":   0.510948047695206rate\n",
       ":   0.374878929040892\n",
       "\n"
      ],
      "text/plain": [
       "    shape      rate \n",
       "0.5109480 0.3748789 "
      ]
     },
     "metadata": {},
     "output_type": "display_data"
    },
    {
     "data": {
      "text/html": [
       "<dl class=dl-horizontal>\n",
       "\t<dt>shape</dt>\n",
       "\t\t<dd>0.18725575766242</dd>\n",
       "\t<dt>rate</dt>\n",
       "\t\t<dd>0.13813760987183</dd>\n",
       "</dl>\n"
      ],
      "text/latex": [
       "\\begin{description*}\n",
       "\\item[shape] 0.18725575766242\n",
       "\\item[rate] 0.13813760987183\n",
       "\\end{description*}\n"
      ],
      "text/markdown": [
       "shape\n",
       ":   0.18725575766242rate\n",
       ":   0.13813760987183\n",
       "\n"
      ],
      "text/plain": [
       "    shape      rate \n",
       "0.1872558 0.1381376 "
      ]
     },
     "metadata": {},
     "output_type": "display_data"
    },
    {
     "data": {
      "text/html": [
       "<dl class=dl-horizontal>\n",
       "\t<dt>shape</dt>\n",
       "\t\t<dd>0.133297360770547</dd>\n",
       "\t<dt>rate</dt>\n",
       "\t\t<dd>0.0946917208868348</dd>\n",
       "</dl>\n"
      ],
      "text/latex": [
       "\\begin{description*}\n",
       "\\item[shape] 0.133297360770547\n",
       "\\item[rate] 0.0946917208868348\n",
       "\\end{description*}\n"
      ],
      "text/markdown": [
       "shape\n",
       ":   0.133297360770547rate\n",
       ":   0.0946917208868348\n",
       "\n"
      ],
      "text/plain": [
       "     shape       rate \n",
       "0.13329736 0.09469172 "
      ]
     },
     "metadata": {},
     "output_type": "display_data"
    },
    {
     "data": {
      "text/html": [
       "<dl class=dl-horizontal>\n",
       "\t<dt>shape</dt>\n",
       "\t\t<dd>0.1056492461658</dd>\n",
       "\t<dt>rate</dt>\n",
       "\t\t<dd>0.0757412358129735</dd>\n",
       "</dl>\n"
      ],
      "text/latex": [
       "\\begin{description*}\n",
       "\\item[shape] 0.1056492461658\n",
       "\\item[rate] 0.0757412358129735\n",
       "\\end{description*}\n"
      ],
      "text/markdown": [
       "shape\n",
       ":   0.1056492461658rate\n",
       ":   0.0757412358129735\n",
       "\n"
      ],
      "text/plain": [
       "     shape       rate \n",
       "0.10564925 0.07574124 "
      ]
     },
     "metadata": {},
     "output_type": "display_data"
    }
   ],
   "source": [
    "mlefit.sample.gamma.100$sd\n",
    "mlefit.sample.gamma.400$sd\n",
    "mlefit.sample.gamma.800$sd\n",
    "mlefit.sample.gamma.1600$sd\n",
    "\n"
   ]
  },
  {
   "cell_type": "markdown",
   "metadata": {},
   "source": [
    "We can see that the standard deviation decreases as the sample size increases. This is consistent with the theory."
   ]
  },
  {
   "cell_type": "markdown",
   "metadata": {
    "scrolled": true
   },
   "source": [
    "## (c)"
   ]
  },
  {
   "cell_type": "code",
   "execution_count": 24,
   "metadata": {},
   "outputs": [],
   "source": [
    "mydgamma <- function(x, a, b){\n",
    "    \n",
    "    if (x>0){\n",
    "        g = (1/gamma(a))*(b^a)*x^(a-1)*exp(-b*x)\n",
    "    }\n",
    "    else{\n",
    "        print(\"ERROR\")\n",
    "    }\n",
    "    \n",
    "    return(g)\n",
    "    \n",
    "}\n"
   ]
  },
  {
   "cell_type": "markdown",
   "metadata": {},
   "source": [
    "## (d)"
   ]
  },
  {
   "cell_type": "code",
   "execution_count": 25,
   "metadata": {},
   "outputs": [],
   "source": [
    "library(microbenchmark)\n",
    "microbm.1<-microbenchmark(\n",
    "   sample <- fitdistr(sample.gamma.100,densfun=\"gamma\"),\n",
    "    sample <- fitdistr(sample.gamma.100,densfun=mydgamma, list(a = 1, b=1))\n",
    ")\n"
   ]
  },
  {
   "cell_type": "code",
   "execution_count": 26,
   "metadata": {},
   "outputs": [
    {
     "data": {},
     "metadata": {},
     "output_type": "display_data"
    },
    {
     "data": {
      "image/png": "[encoded data removed]",
      "text/plain": [
       "plot without title"
      ]
     },
     "metadata": {},
     "output_type": "display_data"
    }
   ],
   "source": [
    "library(ggplot2)\n",
    "autoplot(microbm.1)"
   ]
  },
  {
   "cell_type": "markdown",
   "metadata": {},
   "source": [
    "The function ```fitdistr()``` is slower with ```mydgamma()``` mainly because it has not been more optimized. We could potentially change this behavior by choosing different start values.\n",
    "\n",
    "\n",
    "\n",
    "# Problem 3\n",
    "## (a)\n"
   ]
  },
  {
   "cell_type": "markdown",
   "metadata": {},
   "source": [
    "\n",
    "\\begin{align}\n",
    "E[X] &= \\frac{1}{2b} \\int xe^{\\frac{-|x-\\mu|}{b}}dx \\\\\n",
    "&= \\frac{1}{2b} \\int (bt+\\mu)e^{-|t|}bdt \\\\\n",
    "&= \\mu \\int_0^\\infty e^{-t}dt \\\\\n",
    "&= \\mu\n",
    "\\end{align}\n",
    "\n",
    "The above comes from a substitution $(t = \\frac{x-\\mu}{b})$ and from the fact that $\\int te^{-|t|} = 0$ since it's odd and $\\int_{-\\infty}^\\infty e^{-|t|} = 2\\int_0^\\infty e^{-t}$.\n",
    "\n",
    "Similarly, for the variance we have:\n",
    "\n",
    "\\begin{align}\n",
    "E[X^2] & = \\int x^2f(x)dx \\\\\n",
    "&= \\frac{1}{2b} \\int x^2 e^{\\frac{-|x-\\mu|}{b}}dx \\\\\n",
    "&= \\frac{1}{2b} \\int (bt+\\mu)^2e^{-|t|}bdt\\\\\n",
    "&=\\int_0^\\infty ((bt)^2+\\mu^2)e^{-t}dt\\\\\n",
    "&=\\mu^2 \\int_0^\\infty e^{-t}dt+b^2\\int_0^\\infty t^2e^{-t}dt\\\\\n",
    "&= \\mu^2 + 2b^2\n",
    "\\end{align}"
   ]
  },
  {
   "cell_type": "markdown",
   "metadata": {},
   "source": [
    "## (b)\n",
    "For the MLE, we get:\n",
    "\n",
    "\\begin{align}\n",
    "L(X_i,..,X_n, \\mu, b) &= \\prod_{i=1}^n\\frac{1}{2b}e^{-\\frac{|X_i-\\mu|}{b}} \\\\\n",
    "&= (\\frac{1}{2b})^n e^{-\\frac{\\sum_{i=1}^n|X_i-\\mu|}{b}}\\\\\n",
    "ln(X_i,..,X_n, \\mu, b) &= -nlog(2b) -\\frac{\\sum_{i=1}^n|X_i-\\mu|}{b}\n",
    "\\end{align}\n",
    "\n",
    "By taking the derivative with respect to $\\mu$, we see that the function is minimized for $$\\sum_{i=1}^n|X_i-\\mu|=0 \\Rightarrow \\hat{\\mu} = \\frac{1}{n}\\sum_{i=1}^nX_i$$\n",
    "\n",
    "When taking the derivative with respect to $b$, we have: $$-\\frac{n}{b}-\\frac{1}{b^2}\\sum_{i=1}^n|X_i-\\mu|=0\\\\\n",
    "\\Rightarrow n = \\frac{1}{b}\\sum_{i=1}^n|X_i-\\mu| \\\\ \\Rightarrow \\hat{b} = \\frac{1}{n}\\sum_{i=1}^n|X_i-\\mu|$$\n"
   ]
  },
  {
   "cell_type": "markdown",
   "metadata": {},
   "source": [
    "## (c)"
   ]
  },
  {
   "cell_type": "code",
   "execution_count": 43,
   "metadata": {},
   "outputs": [],
   "source": [
    "library(zoo)\n",
    "# setwd(\"./Downloads\")\n",
    ".libPaths(\"C:/Users/dkout/Documents/R/win-library/3.4\")\n",
    "SP500 <- read.zoo(file=\"SP500.csv\")"
   ]
  },
  {
   "cell_type": "code",
   "execution_count": 39,
   "metadata": {
    "scrolled": false
   },
   "outputs": [
    {
     "data": {
      "image/png": "[encoded data removed]",
      "text/plain": [
       "Plot with title \"Daily Index Values\""
      ]
     },
     "metadata": {},
     "output_type": "display_data"
    },
    {
     "data": {
      "image/png": "[encoded data removed]",
      "text/plain": [
       "Plot with title \"Histogram of Daily SP500 Returns\n",
       "1/2/2014 - 9/30/2015 (n=461)\n",
       "(diff(log(y))\""
      ]
     },
     "metadata": {},
     "output_type": "display_data"
    }
   ],
   "source": [
    "par(mfcol=c(1,1))\n",
    "plot(SP500, main=\"Daily Index Values\", xlab=\"Date\")\n",
    "y<-diff(log(SP500))\n",
    "hist( y, breaks=100,ylab=\"Density\",xlab=\"Return\",freq=FALSE,ylim=c(0,84.),main=paste(c(\"Histogram of Daily SP500 Returns\",\"1/2/2014 - 9/30/2015 (n=461)\",\"(diff(log(y))\"),collapse=\"\\n\"))\n"
   ]
  },
  {
   "cell_type": "code",
   "execution_count": 40,
   "metadata": {},
   "outputs": [
    {
     "name": "stdout",
     "output_type": "stream",
     "text": [
      "4.361316e-05 0.005948328 4.361316e-05 0.006034661"
     ]
    }
   ],
   "source": [
    "#Moments:\n",
    "\n",
    "mu_mom=mean(y)\n",
    "b_mom = sqrt((var(y)+mean(y)^2-mu_mom^2)/2)\n",
    "mu_mle = mean(y)\n",
    "b_mle = sum(abs(y-mu_mle))/length(y)\n",
    "\n",
    "cat(mu_mom, b_mom, mu_mle, b_mle)"
   ]
  },
  {
   "cell_type": "markdown",
   "metadata": {},
   "source": [
    "## (d)"
   ]
  },
  {
   "cell_type": "code",
   "execution_count": 46,
   "metadata": {},
   "outputs": [
    {
     "data": {
      "image/png": "[encoded data removed]",
      "text/plain": [
       "Plot with title \"Histogram of Daily SP500 Returns\n",
       "1/2/2014 - 9/30/2015 (n=461)\n",
       "(diff(log(y))\""
      ]
     },
     "metadata": {},
     "output_type": "display_data"
    }
   ],
   "source": [
    "library(rmutil)\n",
    "hist( y, breaks=100,ylab=\"Density\",xlab=\"Return\",freq=FALSE,ylim=c(0,84.),main=paste(c(\"Histogram of Daily SP500 Returns\",\"1/2/2014 - 9/30/2015 (n=461)\",\"(diff(log(y))\"),collapse=\"\\n\"))\n",
    "curve(dlaplace(x, mu_mom, b_mom), add = TRUE, col = \"blue\")\n",
    "curve(dlaplace(x, mu_mle, b_mle), add = TRUE, col = \"red\")\n"
   ]
  },
  {
   "cell_type": "markdown",
   "metadata": {},
   "source": [
    "Both methods yield very similar and quite accurate results. We can see the MLE in red and the method of moments in blue.\n",
    "\n",
    "## (e)\n"
   ]
  },
  {
   "cell_type": "code",
   "execution_count": 47,
   "metadata": {},
   "outputs": [],
   "source": [
    "mydlaplace<-function(x, location=0,scale=1){\n",
    "dx=(0.5/scale)* exp(-abs(x-location)/scale)\n",
    "}"
   ]
  },
  {
   "cell_type": "markdown",
   "metadata": {},
   "source": [
    "## (f)"
   ]
  },
  {
   "cell_type": "code",
   "execution_count": 48,
   "metadata": {},
   "outputs": [
    {
     "data": {
      "text/html": [
       "<dl class=dl-horizontal>\n",
       "\t<dt>location</dt>\n",
       "\t\t<dd>0.000429915620975948</dd>\n",
       "\t<dt>scale</dt>\n",
       "\t\t<dd>0.00604623669376146</dd>\n",
       "</dl>\n"
      ],
      "text/latex": [
       "\\begin{description*}\n",
       "\\item[location] 0.000429915620975948\n",
       "\\item[scale] 0.00604623669376146\n",
       "\\end{description*}\n"
      ],
      "text/markdown": [
       "location\n",
       ":   0.000429915620975948scale\n",
       ":   0.00604623669376146\n",
       "\n"
      ],
      "text/plain": [
       "    location        scale \n",
       "0.0004299156 0.0060462367 "
      ]
     },
     "metadata": {},
     "output_type": "display_data"
    },
    {
     "name": "stdout",
     "output_type": "stream",
     "text": [
      "Scale difference with MLE in sd 0.3686043 \n",
      "Scale difference with Moments in sd 0.04358039 \n",
      "Location difference with Moments in sd 1.235272 \n",
      "Location difference with MLE in sd 1.235272 \n"
     ]
    }
   ],
   "source": [
    "\n",
    "\n",
    "mlefit <- fitdistr(y,densfun=mydlaplace, list(location = 0, scale=1))\n",
    "mlefit$estimate\n",
    "cat(\"Scale difference with MLE in sd\", (mlefit$estimate[\"scale\"] - b_mom)/mlefit$sd[\"scale\"], \"\\n\")\n",
    "cat(\"Scale difference with Moments in sd\",(mlefit$estimate[\"scale\"] - b_mle)/mlefit$sd[\"scale\"], \"\\n\")\n",
    "cat(\"Location difference with Moments in sd\",(mlefit$estimate[\"location\"] - mu_mom)/mlefit$sd[\"location\"], \"\\n\")\n",
    "cat(\"Location difference with MLE in sd\",(mlefit$estimate[\"location\"] - mu_mle)/mlefit$sd[\"location\"], \"\\n\")"
   ]
  },
  {
   "cell_type": "markdown",
   "metadata": {},
   "source": [
    "The difference is about 0.4 standard deviations for the scale variable (b) and 1.2 for the mean. This is not a huge difference as can be seen in the next graph (green corresponds to the fitdistr)."
   ]
  },
  {
   "cell_type": "code",
   "execution_count": 49,
   "metadata": {
    "scrolled": false
   },
   "outputs": [
    {
     "data": {
      "image/png": "[encoded data removed]",
      "text/plain": [
       "Plot with title \"Histogram of Daily SP500 Returns\n",
       "1/2/2014 - 9/30/2015 (n=461)\n",
       "(diff(log(y))\""
      ]
     },
     "metadata": {},
     "output_type": "display_data"
    }
   ],
   "source": [
    "library(rmutil)\n",
    "hist( y, breaks=100,ylab=\"Density\",xlab=\"Return\",freq=FALSE,ylim=c(0,84.),main=paste(c(\"Histogram of Daily SP500 Returns\",\"1/2/2014 - 9/30/2015 (n=461)\",\"(diff(log(y))\"),collapse=\"\\n\"))\n",
    "curve(dlaplace(x, mu_mom, b_mom), add = TRUE, col = \"blue\")\n",
    "curve(dlaplace(x, mu_mle, b_mle), add = TRUE, col = \"red\")\n",
    "\n",
    "curve(dlaplace(x, mlefit$estimate[\"location\"], mlefit$estimate[\"scale\"]), add = TRUE, col = \"green\")"
   ]
  },
  {
   "cell_type": "markdown",
   "metadata": {},
   "source": [
    "# Problem 5\n",
    "\n",
    "## (a)\n",
    "\n",
    "By applying the Newton Method to minimize the error $\\vec{\\epsilon} = \\vec{y}-X\\vec{\\beta}$, we have:\n",
    "\n",
    "\\begin{align}\n",
    "\\vec{\\beta_1} &= \\vec{\\beta_0} - \\frac{f(\\vec{\\beta_0)}}{f'(\\vec{\\beta_0)}}\\\\\n",
    "&= \\vec{\\beta_0} + \\frac{\\vec{y}-X\\vec{\\beta_0}}{X} \\\\\n",
    "&= \\vec{\\beta_0}- \\vec{\\beta_0} + X^{-1}\\vec{y} \\\\\n",
    "&= X^{-1}\\vec{y}\n",
    "\\end{align}\n",
    "\n",
    "## (b)\n",
    "\n",
    "\\begin{align}\n",
    "\\vec{\\beta_1} &= X^{-1}\\vec{y} \\\\\n",
    "&= X^{-1}\\cdot I \\vec{y} \\\\\n",
    "&= X^{-1}\\cdot (X^T)^{-1}X^T \\vec{y} \\\\\n",
    "&= X^{-1}(X^T)^{-1} \\cdot X^T \\vec{y} \\\\\n",
    "&= (X^TX)^{-1} \\cdot X^T \\vec{y}  = \\hat{\\beta}\n",
    "\\end{align}\n",
    "\n",
    "## (c) \n",
    "\n",
    "Since our final solution $\\beta_1 = \\hat{\\beta}$ does not depend on $\\epsilon$, or $\\sigma$, this will not depend on the value of $\\sigma^2$ and thus will work for any uknown variance."
   ]
  },
  {
   "cell_type": "code",
   "execution_count": null,
   "metadata": {},
   "outputs": [],
   "source": []
  }
 ],
 "metadata": {
  "kernelspec": {
   "display_name": "R",
   "language": "R",
   "name": "ir"
  },
  "language_info": {
   "codemirror_mode": "r",
   "file_extension": ".r",
   "mimetype": "text/x-r-source",
   "name": "R",
   "pygments_lexer": "r",
   "version": "3.4.3"
  },
  "latex_envs": {
   "LaTeX_envs_menu_present": true,
   "autoclose": true,
   "autocomplete": false,
   "bibliofile": "biblio.bib",
   "cite_by": "apalike",
   "current_citInitial": 1,
   "eqLabelWithNumbers": false,
   "eqNumInitial": 1,
   "hotkeys": {
    "equation": "Ctrl-E",
    "itemize": "Ctrl-I"
   },
   "labels_anchors": false,
   "latex_user_defs": false,
   "report_style_numbering": false,
   "user_envs_cfg": true
  }
 },
 "nbformat": 4,
 "nbformat_minor": 2
}
