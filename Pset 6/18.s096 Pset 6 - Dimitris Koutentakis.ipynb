{
 "cells": [
  {
   "cell_type": "markdown",
   "metadata": {},
   "source": [
    "# Problem 1\n"
   ]
  },
  {
   "cell_type": "markdown",
   "metadata": {},
   "source": [
    "## (a)\n",
    "\n",
    "The laplace parameters that give a mean of 0 and a standard deviation of 1, are location of $a = 0$  and a scale of $b = \\frac{1}{\\sqrt{2}}$. We use the function rlaplace() from the rmutil library with $a=0, b = \\frac{1}{\\sqrt{2}}$."
   ]
  },
  {
   "cell_type": "code",
   "execution_count": 39,
   "metadata": {},
   "outputs": [],
   "source": [
    "library(rmutil)\n",
    "myrlaplace <- function(n){\n",
    "    rlaplace(n, m = 0, s = 1/sqrt(2))\n",
    "}"
   ]
  },
  {
   "cell_type": "markdown",
   "metadata": {},
   "source": [
    "## (b)"
   ]
  },
  {
   "cell_type": "code",
   "execution_count": 207,
   "metadata": {},
   "outputs": [
    {
     "name": "stdout",
     "output_type": "stream",
     "text": [
      "The mean of the sample is  0.0002142464  and the standard deviation of the sample is  1.315626"
     ]
    }
   ],
   "source": [
    "X = rt(10000,df = 5)\n",
    "sigma = sqrt(var(X))\n",
    "mu = mean(X)\n",
    "cat(\"The mean of the sample is \", mu, \" and the standard deviation of the sample is \", sigma)"
   ]
  },
  {
   "cell_type": "markdown",
   "metadata": {},
   "source": [
    "\n",
    "\n",
    "In general, for a t-distribution with $\\nu$ degrees of freedom, $\\sigma = \\frac{\\nu}{\\nu-2}$."
   ]
  },
  {
   "cell_type": "code",
   "execution_count": 47,
   "metadata": {},
   "outputs": [],
   "source": [
    "rt5normalized <- function(n){\n",
    "    x = rt(n, df = 5)\n",
    "    z = (x-mean(x))/sqrt(var(x))\n",
    "}"
   ]
  },
  {
   "cell_type": "markdown",
   "metadata": {},
   "source": [
    "## (c)"
   ]
  },
  {
   "cell_type": "code",
   "execution_count": 208,
   "metadata": {
    "collapsed": true
   },
   "outputs": [],
   "source": [
    "library(rmutil)\n",
    "\n",
    "MCprice2 <- function(Price, Strike, Rate, Time, Volatility, Steps, Paths, dist = \"normal\") {\n",
    "  # Price<-100.\n",
    "  # Strike<-100.\n",
    "  # Rate <-0.03\n",
    "  # Time <-1/4\n",
    "  # Volatility <- 0.20\n",
    "  # Steps=100\n",
    "  # Paths=1000\n",
    "  # dist = \"normal\"\n",
    "  \n",
    "# Monte Carlo pricer for vanilla options [8/8/2016 pfm]\n",
    "#     Paul F Mende, 18.642 Lecture\n",
    "# Input arguments use consistent units, e.g., annualized\n",
    "# Price:  current price of underlying\n",
    "# Strike: strike price of option contract\n",
    "# Rate:   risk-free rate\n",
    "# Time:   time to expiration\n",
    "# Volatility\n",
    "# Steps: number of time steps in discretization\n",
    "# Paths:  number of Monte Carlo simulation paths\n",
    "  \n",
    "  S0    <- Price\n",
    "  K     <- Strike\n",
    "  rf    <- Rate\n",
    "  T     <- Time\n",
    "  sigma <- Volatility\n",
    "  Nt    <- Steps\n",
    "  Np    <- Paths\n",
    "  dt    <- T/Nt\n",
    "\n",
    "# Select independent, normalized Gaussian shocks\n",
    "if (dist == 'normal'){\n",
    "    epsilon <- matrix(rnorm(Nt*Np), ncol=Np)\n",
    "}\n",
    "else if (dist == \"laplace\"){\n",
    "    epsilon <- matrix(myrlaplace(Nt*Np), ncol=Np)    \n",
    "}\n",
    "else if(dist == \"student\"){\n",
    "    epsilon <- matrix(rt5normalized(Nt*Np), ncol=Np)\n",
    "}\n",
    "\n",
    "# Define IID returns for each step and path under risk-neutral measure\n",
    "\n",
    "r <- (rf - 0.5*sigma^2)*dt + epsilon*sigma*sqrt(dt)\n",
    "\n",
    "# Construct stochastic paths and price process\n",
    "\n",
    "logX  <- apply(r,2,cumsum)\n",
    "S     <- matrix(S0, Nt+1, Np)\n",
    "S[-1,] <- S0 * exp(logX)\n",
    "\n",
    "# Define payoff values for derivatives\n",
    "C <- (S-K) * (S>K)\n",
    "P <- (K-S) * (S<K)\n",
    "\n",
    "# Compute call and put values as discounted expected payoffs\n",
    "Call <- exp(-rf*T)*mean(C[Nt+1,])\n",
    "Put  <- exp(-rf*T)*mean(P[Nt+1,])\n",
    "\n",
    "# Return values\n",
    "return(data.frame(call=Call, put=Put))\n",
    "}"
   ]
  },
  {
   "cell_type": "markdown",
   "metadata": {},
   "source": [
    "## (d)"
   ]
  },
  {
   "cell_type": "code",
   "execution_count": 99,
   "metadata": {},
   "outputs": [
    {
     "name": "stdout",
     "output_type": "stream",
     "text": [
      "[1] \"laplace\"\n"
     ]
    },
    {
     "data": {
      "text/html": [
       "<table>\n",
       "<thead><tr><th scope=col>call</th><th scope=col>put</th></tr></thead>\n",
       "<tbody>\n",
       "\t<tr><td>13.02314</td><td>10.42178</td></tr>\n",
       "</tbody>\n",
       "</table>\n"
      ],
      "text/latex": [
       "\\begin{tabular}{r|ll}\n",
       " call & put\\\\\n",
       "\\hline\n",
       "\t 13.02314 & 10.42178\\\\\n",
       "\\end{tabular}\n"
      ],
      "text/markdown": [
       "\n",
       "call | put | \n",
       "|---|\n",
       "| 13.02314 | 10.42178 | \n",
       "\n",
       "\n"
      ],
      "text/plain": [
       "  call     put     \n",
       "1 13.02314 10.42178"
      ]
     },
     "metadata": {},
     "output_type": "display_data"
    },
    {
     "name": "stdout",
     "output_type": "stream",
     "text": [
      "[1] \"normal\"\n"
     ]
    },
    {
     "data": {
      "text/html": [
       "<table>\n",
       "<thead><tr><th scope=col>call</th><th scope=col>put</th></tr></thead>\n",
       "<tbody>\n",
       "\t<tr><td>13.48036</td><td>10.50638</td></tr>\n",
       "</tbody>\n",
       "</table>\n"
      ],
      "text/latex": [
       "\\begin{tabular}{r|ll}\n",
       " call & put\\\\\n",
       "\\hline\n",
       "\t 13.48036 & 10.50638\\\\\n",
       "\\end{tabular}\n"
      ],
      "text/markdown": [
       "\n",
       "call | put | \n",
       "|---|\n",
       "| 13.48036 | 10.50638 | \n",
       "\n",
       "\n"
      ],
      "text/plain": [
       "  call     put     \n",
       "1 13.48036 10.50638"
      ]
     },
     "metadata": {},
     "output_type": "display_data"
    },
    {
     "name": "stdout",
     "output_type": "stream",
     "text": [
      "[1] \"student\"\n"
     ]
    },
    {
     "data": {
      "text/html": [
       "<table>\n",
       "<thead><tr><th scope=col>call</th><th scope=col>put</th></tr></thead>\n",
       "<tbody>\n",
       "\t<tr><td>13.15767</td><td>10.26853</td></tr>\n",
       "</tbody>\n",
       "</table>\n"
      ],
      "text/latex": [
       "\\begin{tabular}{r|ll}\n",
       " call & put\\\\\n",
       "\\hline\n",
       "\t 13.15767 & 10.26853\\\\\n",
       "\\end{tabular}\n"
      ],
      "text/markdown": [
       "\n",
       "call | put | \n",
       "|---|\n",
       "| 13.15767 | 10.26853 | \n",
       "\n",
       "\n"
      ],
      "text/plain": [
       "  call     put     \n",
       "1 13.15767 10.26853"
      ]
     },
     "metadata": {},
     "output_type": "display_data"
    }
   ],
   "source": [
    "S0 <- 100; K <- 100; T <- 1; rf <- 0.03; sigma <- 0.3; \n",
    "Nt <- 252; Np <- 1e4; dt=T/Nt\n",
    "set.seed(1)\n",
    "print(\"laplace\")\n",
    "MCprice2(S0,K,rf,T,sigma,Nt,Np, dist = \"laplace\")\n",
    "print(\"normal\")\n",
    "MCprice2(S0,K,rf,T,sigma,Nt,Np, dist = \"normal\")\n",
    "print(\"student\")\n",
    "MCprice2(S0,K,rf,T,sigma,Nt,Np, dist = \"student\")\n",
    "\n",
    "\n"
   ]
  },
  {
   "cell_type": "markdown",
   "metadata": {},
   "source": [
    "# Problem 2\n",
    "## (a)\n",
    "\n",
    "The Central Limit Theorem (CLT) does apply in this case, but will not help us at all, as it will approximate all the distributions the same way, as they all have the same mean and standard deviation.\n",
    "\n",
    "## (b)"
   ]
  },
  {
   "cell_type": "code",
   "execution_count": 57,
   "metadata": {},
   "outputs": [
    {
     "name": "stdout",
     "output_type": "stream",
     "text": [
      "[1] \"laplace\"\n"
     ]
    },
    {
     "data": {
      "text/html": [
       "<table>\n",
       "<thead><tr><th scope=col>call</th><th scope=col>put</th></tr></thead>\n",
       "<tbody>\n",
       "\t<tr><td>3.475097</td><td>3.314262</td></tr>\n",
       "</tbody>\n",
       "</table>\n"
      ],
      "text/latex": [
       "\\begin{tabular}{r|ll}\n",
       " call & put\\\\\n",
       "\\hline\n",
       "\t 3.475097 & 3.314262\\\\\n",
       "\\end{tabular}\n"
      ],
      "text/markdown": [
       "\n",
       "call | put | \n",
       "|---|\n",
       "| 3.475097 | 3.314262 | \n",
       "\n",
       "\n"
      ],
      "text/plain": [
       "  call     put     \n",
       "1 3.475097 3.314262"
      ]
     },
     "metadata": {},
     "output_type": "display_data"
    },
    {
     "name": "stdout",
     "output_type": "stream",
     "text": [
      "[1] \"normal\"\n"
     ]
    },
    {
     "data": {
      "text/html": [
       "<table>\n",
       "<thead><tr><th scope=col>call</th><th scope=col>put</th></tr></thead>\n",
       "<tbody>\n",
       "\t<tr><td>3.574573</td><td>3.284988</td></tr>\n",
       "</tbody>\n",
       "</table>\n"
      ],
      "text/latex": [
       "\\begin{tabular}{r|ll}\n",
       " call & put\\\\\n",
       "\\hline\n",
       "\t 3.574573 & 3.284988\\\\\n",
       "\\end{tabular}\n"
      ],
      "text/markdown": [
       "\n",
       "call | put | \n",
       "|---|\n",
       "| 3.574573 | 3.284988 | \n",
       "\n",
       "\n"
      ],
      "text/plain": [
       "  call     put     \n",
       "1 3.574573 3.284988"
      ]
     },
     "metadata": {},
     "output_type": "display_data"
    },
    {
     "name": "stdout",
     "output_type": "stream",
     "text": [
      "[1] \"student\"\n"
     ]
    },
    {
     "data": {
      "text/html": [
       "<table>\n",
       "<thead><tr><th scope=col>call</th><th scope=col>put</th></tr></thead>\n",
       "<tbody>\n",
       "\t<tr><td>3.586916</td><td>3.331807</td></tr>\n",
       "</tbody>\n",
       "</table>\n"
      ],
      "text/latex": [
       "\\begin{tabular}{r|ll}\n",
       " call & put\\\\\n",
       "\\hline\n",
       "\t 3.586916 & 3.331807\\\\\n",
       "\\end{tabular}\n"
      ],
      "text/markdown": [
       "\n",
       "call | put | \n",
       "|---|\n",
       "| 3.586916 | 3.331807 | \n",
       "\n",
       "\n"
      ],
      "text/plain": [
       "  call     put     \n",
       "1 3.586916 3.331807"
      ]
     },
     "metadata": {},
     "output_type": "display_data"
    }
   ],
   "source": [
    "S0 <- 100; K <- 100; T <- 1/12; rf <- 0.03; sigma <- 0.3; \n",
    "Nt <- 21; Np <- 1e4; dt=T/Nt\n",
    "set.seed(1)\n",
    "print(\"laplace\")\n",
    "MCprice2(S0,K,rf,T,sigma,Nt,Np, dist = \"laplace\")\n",
    "print(\"normal\")\n",
    "MCprice2(S0,K,rf,T,sigma,Nt,Np, dist = \"normal\")\n",
    "print(\"student\")\n",
    "MCprice2(S0,K,rf,T,sigma,Nt,Np, dist = \"student\")\n",
    "\n"
   ]
  },
  {
   "cell_type": "markdown",
   "metadata": {},
   "source": [
    "## (c)\n",
    "\n",
    "\n",
    "From the answers to the previous questions it seems that:\n",
    "\\begin{itemize}\n",
    "\\item The Student and the Normal distribution result in very similar values. The Laplace distribution leads to the smallest spread between call and put price, and the Normal distribution has the largest. \n",
    "\\item The larger the maturity of the option, the larger the call and put values.\n",
    "\\item The number of increments in the Monte Carlo paths does not drastically change the outcome, but leads to slightly larger numbers.\n",
    "\\end{itemize}"
   ]
  },
  {
   "cell_type": "markdown",
   "metadata": {},
   "source": [
    "# Problem 3\n",
    "\n",
    "## (a)\n",
    "\\begin{align}\n",
    "  X_{t+1}|(X_t =x_t) &= \\alpha_0 + \\alpha_1 x_t + \\epsilon_{t+1} \\\\\n",
    "  f(X_{t+1}) &= Z \\sim N(\\alpha_0 + \\alpha_1 x_t, \\sigma^2) \\\\\n",
    "  &= \\frac{1}{\\sqrt{2\\pi\\sigma^2}}e^{-\\frac{(x_{t+1}-\\alpha_0 + \\alpha_1 x_t)^2}{2\\sigma^2}}\n",
    "\\end{align}\n",
    "\n",
    "## (b)\n",
    "\n",
    "The distribution of $X_t$ will be:\n",
    "    $$Z_t = a_0 \\sum_{i=0}^{t-1}a_1^i + a_1^tx_0 + \\sum_{i=0}^{t-1}a_1^i \\epsilon_{t-i}$$\n",
    "Then the expectation of $Z_t$ will be:\n",
    "\n",
    "$$E[Z_t] = \\sum_{i=0}^{t-1}a_1^i + a_1^tx_0$$ which for large enough $t$ and $a_1 <1$, will be equal to \n",
    "\n",
    "\\begin{align}\n",
    "    E[Z_t] &= a_0\\sum_{i=0}^{t-1}a_1^i \\\\\n",
    "    &= \\frac{a_0}{1-a_1}\n",
    "\\end{align}\n",
    "\n",
    "The variance then would be:\n",
    "\n",
    "\\begin{align}\n",
    "    Var[Z_t] &= Var[\\sum_{i=0}^{t-1}a_1^i\\epsilon_{t-i}]\\\\\n",
    "    &= \\sigma^2 \\sum_{i=0}^{t-1}\\big(a_1^i\\big)^2 \\\\\n",
    "    &= \\frac{\\sigma^2}{1-a_1^2}\n",
    "\\end{align}\n",
    "\n",
    "Thus the distribution is stationary with:\n",
    "$$\\mu_0 = \\alpha_0/(1-\\alpha_1)$$\n",
    "$$\\sigma_0^2 = \\sigma^2/(1-a_1^2)$$\n",
    "\n",
    "## (c)"
   ]
  },
  {
   "cell_type": "code",
   "execution_count": 107,
   "metadata": {},
   "outputs": [],
   "source": [
    "ar_path <- function(T, a_0, a_1, x, mu=0, sigma=1){\n",
    "    for (i in 2:T){\n",
    "        x[i] = a_0 + a_1*x[i-1] + rnorm(1, mean = mu, sd = sigma^2)\n",
    "    }\n",
    "    return(x)\n",
    "}"
   ]
  },
  {
   "cell_type": "code",
   "execution_count": 144,
   "metadata": {},
   "outputs": [
    {
     "data": {
      "image/png": "[encoded data removed]",
      "text/plain": [
       "Plot with title \"Histogram of x_1000\""
      ]
     },
     "metadata": {},
     "output_type": "display_data"
    }
   ],
   "source": [
    "T = 1000; a_0 = 1; a_1 = 0.95; mu =0; sigma = 1; x=0\n",
    "sigma = 1\n",
    "mu_0 = a_0/(1-a_1)\n",
    "sigmasq_0 = sigma^2/(1-a_1^2)\n",
    "\n",
    "x_1000 = ar_path(T, a_0, a_1, x)\n",
    "\n",
    "par(mfcol = c(1,2))\n",
    "ts.plot(x_1000)\n",
    "hist(x_1000, nclass = 100, freq = FALSE)\n",
    "curve(dnorm(x, mu_0, sigmasq_0), col = \"red\", add = TRUE)\n",
    "\n"
   ]
  },
  {
   "cell_type": "markdown",
   "metadata": {},
   "source": [
    "## (d)"
   ]
  },
  {
   "cell_type": "code",
   "execution_count": 173,
   "metadata": {},
   "outputs": [
    {
     "data": {
      "image/png": "[encoded data removed]",
      "text/plain": [
       "Plot with title \"x_0 = 100\""
      ]
     },
     "metadata": {},
     "output_type": "display_data"
    }
   ],
   "source": [
    "T = 1000; a_0 = 1; a_1 = 0.95; mu =0; sigma = 1; x=20\n",
    "sigma = 1\n",
    "mu_0 = a_0/(1-a_1)\n",
    "sigmasq_0 = sigma^2/(1-a_1^2)\n",
    "\n",
    "x_1000 = ar_path(T, a_0, a_1, x)\n",
    "par(mfcol = c(2,2))\n",
    "\n",
    "ts.plot(x_1000, main = \"x_0 = 20\")\n",
    "hist(x_1000, nclass = 100, freq = FALSE, main = \"x_0 = 20\")\n",
    "curve(dnorm(x, mu_0, sigmasq_0), col = \"red\", add = TRUE)\n",
    "\n",
    "\n",
    "T = 1000; a_0 = 1; a_1 = 0.95; mu =0; sigma = 1; x=100\n",
    "sigma = 1\n",
    "mu_0 = a_0/(1-a_1)\n",
    "sigmasq_0 = sigma^2/(1-a_1^2)\n",
    "\n",
    "x_1000 = ar_path(T, a_0, a_1, x)\n",
    "ts.plot(x_1000, main = \"x_0 = 100\")\n",
    "hist(x_1000, nclass = 100, freq = FALSE, main = \"x_0 = 100\")\n",
    "curve(dnorm(x, mu_0, sigmasq_0), col = \"red\", add = TRUE)\n"
   ]
  },
  {
   "cell_type": "markdown",
   "metadata": {},
   "source": [
    "As we explained earlier, the distribution will settle at a stationary distribution of $E[Z_t] = \\frac{\\alpha_0}{1-\\alpha_1} = 20$. Thus the first distribution whose $X_0$ = 20, looks \"more stationary\" and its distribution has less variability. On the other hand, the distribution that starts from 100, quickly converges to values close to 20 and it's histogram has much larger tails. However we can see that the effect on the final value is not very pronounced.\n",
    "\n",
    "## (e)"
   ]
  },
  {
   "cell_type": "code",
   "execution_count": 162,
   "metadata": {},
   "outputs": [
    {
     "data": {
      "image/png": "[encoded data removed]",
      "text/plain": [
       "Plot with title \"x_0 = 100, T = 10.000\""
      ]
     },
     "metadata": {},
     "output_type": "display_data"
    }
   ],
   "source": [
    "T = 10000; a_0 = 1; a_1 = 0.95; mu =0; sigma = 1; x=20\n",
    "sigma = 1\n",
    "mu_0 = a_0/(1-a_1)\n",
    "sigmasq_0 = sigma^2/(1-a_1^2)\n",
    "\n",
    "x_1000 = ar_path(T, a_0, a_1, x)\n",
    "\n",
    "par(mfcol = c(2,2))\n",
    "\n",
    "ts.plot(x_1000, main = \"x_0 = 20, T = 10.000\")\n",
    "hist(x_1000, nclass = 100, freq = FALSE, main = \"x_0 = 20, T = 10.000\")\n",
    "curve(dnorm(x, mu_0, sigmasq_0), col = \"red\", add = TRUE)\n",
    "\n",
    "\n",
    "T = 1000; a_0 = 1; a_1 = 0.95; mu =0; sigma = 1; x=100\n",
    "sigma = 1\n",
    "mu_0 = a_0/(1-a_1)\n",
    "sigmasq_0 = sigma^2/(1-a_1^2)\n",
    "\n",
    "x_1000 = ar_path(T, a_0, a_1, x)\n",
    "ts.plot(x_1000, main = \"x_0 = 100, T = 10.000\")\n",
    "hist(x_1000, nclass = 100, freq = FALSE, main = \"x_0 = 100, T = 10.000\")\n",
    "curve(dnorm(x, mu_0, sigmasq_0), col = \"red\", add = TRUE)"
   ]
  },
  {
   "cell_type": "markdown",
   "metadata": {},
   "source": [
    "We can see that now the distribution converges even faster (relatively to total time), so the final value of the distribution depends even less on the initial one.\n",
    "\n",
    "## (f)\n",
    "\n",
    "Excluding the values of a distribution during an initial burn-in period might be useful because it allows us to disregard the values where the distribution converges to the stationary one, and get rid of the outlying values. The length of the burn-in period would depend on the initial value. A good initial value would be one not further than $3\\sigma_0$ from $\\mu_0$ and the amount of time to wait would be until we reach values close to $3-4\\sigma_0$ from $\\mu_0$."
   ]
  },
  {
   "cell_type": "markdown",
   "metadata": {},
   "source": [
    "# Problem 4\n",
    "## (a)"
   ]
  },
  {
   "cell_type": "code",
   "execution_count": 76,
   "metadata": {},
   "outputs": [
    {
     "data": {
      "image/png": "[encoded data removed]",
      "text/plain": [
       "Plot with title \"Series  X2[2500:nsim]\""
      ]
     },
     "metadata": {},
     "output_type": "display_data"
    }
   ],
   "source": [
    "library(mcsm)\n",
    "a=1.75;nsim=10000;\n",
    "X1=X2=array(0,dim=c(nsim,1))            #AR & MH\n",
    "X1[1]=X2[1]=rgamma(1,a,rate=1)                #initialize the chain\n",
    "for (i in 2:nsim){\n",
    "    Y=rgamma(1,floor(a),rate=floor(a)/a)    #candidate\n",
    "    rhoAR=(exp(1)*Y*exp(-Y/a)/a)^(a-floor(a))\n",
    "    rhoMH=(dgamma(Y,a,rate=1)/dgamma(X2[i-1],a,rate=1))/(dgamma(Y,floor(a),\n",
    "    rate=floor(a)/a)/dgamma(X2[i-1],floor(a),rate=floor(a)/a))\n",
    "    rhoMH=min(rhoMH,1)\n",
    "    X1[i]=Y*(runif(1)<rhoAR)                       #accepted values\n",
    "    X2[i]=X2[i-1] + (Y-X2[i-1])*(runif(1)<rhoMH)\n",
    "}\n",
    "X1_org = X1\n",
    "X1=X1[X1!=0]                   #The AR sample\n",
    "par(mfrow=c(2,2),mar=c(4,4,2,2))\n",
    "hist(X1,col=\"grey\",nclas=125,freq=FALSE,xlab=\"\",main=\"Accept-Reject\",xlim=c(0,15))\n",
    "curve(dgamma(x, a, rate=1),lwd=2,add=TRUE)\n",
    "hist(X2[2500:nsim],nclas=125,col=\"grey\",freq=FALSE,xlab=\"\",main=\"Metropolis-Hastings\",xlim=c(0,15))\n",
    "curve(dgamma(x, a, rate=1),lwd=2,add=TRUE)\n",
    "acf(X1,lag.max=50,lwd=2,col=\"red\")              #Accept-Reject\n",
    "acf(X2[2500:nsim],lag.max=50,lwd=2,col=\"blue\")  #Metropolis-Hastings"
   ]
  },
  {
   "cell_type": "code",
   "execution_count": 80,
   "metadata": {},
   "outputs": [],
   "source": [
    "x1_reject = (sum(X1_org == 0))/length(X1)"
   ]
  },
  {
   "cell_type": "code",
   "execution_count": 81,
   "metadata": {},
   "outputs": [],
   "source": [
    "rejects = 0\n",
    "for (i in 2:length(X2)){\n",
    "    if(X2[i]!=X2[i-1]){\n",
    "    rejects = rejects +1\n",
    "    }\n",
    "}\n",
    "x2_reject = rejects/length(X2)"
   ]
  },
  {
   "cell_type": "markdown",
   "metadata": {
    "variables": {
     "x1_reject": {},
     "x2_reject": {}
    }
   },
   "source": [
    "The rejection rate of X1 is {{x1_reject}}, and that of X2, is: {{x2_reject}}\n",
    "\n",
    "## (b)"
   ]
  },
  {
   "cell_type": "code",
   "execution_count": 86,
   "metadata": {
    "scrolled": false
   },
   "outputs": [
    {
     "data": {
      "text/plain": [
       "\n",
       "\tTwo-sample Kolmogorov-Smirnov test\n",
       "\n",
       "data:  jitter(X) and rbeta(5000, a, b)\n",
       "D = 0.0252, p-value = 0.08357\n",
       "alternative hypothesis: two-sided\n"
      ]
     },
     "metadata": {},
     "output_type": "display_data"
    },
    {
     "data": {
      "image/png": "[encoded data removed]",
      "text/plain": [
       "plot without title"
      ]
     },
     "metadata": {},
     "output_type": "display_data"
    },
    {
     "data": {
      "image/png": "[encoded data removed]",
      "text/plain": [
       "Plot with title \"Direct Generation\""
      ]
     },
     "metadata": {},
     "output_type": "display_data"
    }
   ],
   "source": [
    "a=0.5; b=0.5; c=2.669 # initial values\n",
    "nsim=5000\n",
    "X=rep(runif(1),nsim)  # initialize the chain\n",
    "for (i in 2:nsim){\n",
    "   Y=runif(1)\n",
    "   rho=dbeta(Y,a,b)/dbeta(X[i-1],a,b)\n",
    "   X[i]=X[i-1] + (Y-X[i-1])*(runif(1)<rho)\n",
    "   }\n",
    "#X11(h=3.5);m\n",
    "plot(4500:4800,X[4500:4800],ty=\"l\",lwd=2,xlab=\"Iterations\",ylab=\"X\")\n",
    "\n",
    "ks.test(jitter(X),rbeta(5000,a,b))\n",
    "\n",
    "par(mfrow=c(1,2),mar=c(2,2,1,1))\n",
    "hist(X,nclass=150,col=\"grey\",main=\"Metropolis-Hastings\",fre=FALSE)\n",
    "curve(dbeta(x,a,b),col=\"sienna\",lwd=2,add=TRUE)\n",
    "hist(rbeta(5000,a,b),nclass=150,col=\"grey\",main=\"Direct Generation\",fre=FALSE)\n",
    "curve(dbeta(x,a,b),col=\"sienna\",lwd=2,add=TRUE)\n"
   ]
  },
  {
   "cell_type": "markdown",
   "metadata": {},
   "source": [
    "## (c)\n",
    "\n",
    "It is not possible to apply the Accept-Reject method for the Beta(a=b= 0:5) distribution above because its density is unbounded.\n",
    "\n",
    "## (d)\n"
   ]
  },
  {
   "cell_type": "code",
   "execution_count": 94,
   "metadata": {},
   "outputs": [],
   "source": [
    "hastings2<- function (nsim = 10^3) \n",
    "{\n",
    "    a = c(0.5, 1., 5.)\n",
    "    na = length(a)\n",
    "    x = array(0, c(na, nsim))\n",
    "    for (i in 1:na) {\n",
    "        acc = 0\n",
    "        for (j in 2:nsim) {\n",
    "            y <- x[i, (j - 1)] + runif(1, min = -a[i], max = a[i])\n",
    "            r = min(exp(-0.5 * ((y^2) - (x[i, (j - 1)]^2))), \n",
    "                1)\n",
    "            u <- runif(1)\n",
    "            acc = acc + (u < r)\n",
    "            x[i, j] <- y * (u < r) + x[i, (j - 1)] * (u > r)\n",
    "        }\n",
    "    }\n",
    "    par(mfrow = c(3, na), mar = c(4, 4, 2, 1))\n",
    "    for (i in 1:na) plot((nsim - 500):nsim, x[i, (nsim - 500):nsim], \n",
    "        ty = \"l\", lwd = 2, xlab = \"Iterations\", ylab = \"\", main = paste(\"Rate\", \n",
    "            (length(unique(x[i, ]))/nsim), sep = \" \"))\n",
    "    for (i in 1:na) {\n",
    "        hist(x[i, ], freq = F, xlim = c(-4, 4), ylim = c(0, 0.4), \n",
    "            col = \"grey\", ylab = \"\", xlab = \"\", breaks = 35, \n",
    "            main = \"\")\n",
    "        curve(dnorm(x), lwd = 2, add = T)\n",
    "    }\n",
    "    for (i in 1:na) acf(x[i, ], main = \"\")\n",
    "}\n"
   ]
  },
  {
   "cell_type": "code",
   "execution_count": 96,
   "metadata": {},
   "outputs": [
    {
     "data": {
      "image/png": "[encoded data removed]",
      "text/plain": [
       "Plot with title \"\""
      ]
     },
     "metadata": {},
     "output_type": "display_data"
    }
   ],
   "source": [
    "hastings()"
   ]
  },
  {
   "cell_type": "code",
   "execution_count": 209,
   "metadata": {},
   "outputs": [
    {
     "data": {
      "image/png": "[encoded data removed]",
      "text/plain": [
       "Plot with title \"\""
      ]
     },
     "metadata": {},
     "output_type": "display_data"
    },
    {
     "data": {
      "image/png": "[encoded data removed]",
      "text/plain": [
       "Plot with title \"\""
      ]
     },
     "metadata": {},
     "output_type": "display_data"
    }
   ],
   "source": [
    "hastings2()"
   ]
  },
  {
   "cell_type": "markdown",
   "metadata": {},
   "source": [
    "The paths for the Markov-Chain are generated using a random walk where the step-sizes are a symmetric uniform distribution of width $2a$. The acceptance rate decreases with $a$, because as $a$ increases, more proposed moves will be too big and will be rejected.\n",
    "\n",
    "It is not always better to always use a candidate distribution with a higher acceptance rate. For example, a high acceptance rate might result in very small steps, and so the parameter space might not be fully explored.\n",
    "\n",
    "The ACF function has higher values the smaller the value of a, because sometimes do not fully explore the parameter space."
   ]
  }
 ],
 "metadata": {
  "author": "l",
  "kernelspec": {
   "display_name": "R",
   "language": "R",
   "name": "ir"
  },
  "language_info": {
   "codemirror_mode": "r",
   "file_extension": ".r",
   "mimetype": "text/x-r-source",
   "name": "R",
   "pygments_lexer": "r",
   "version": "3.4.3"
  },
  "latex_envs": {
   "LaTeX_envs_menu_present": true,
   "autoclose": true,
   "autocomplete": false,
   "bibliofile": "biblio.bib",
   "cite_by": "apalike",
   "current_citInitial": 1,
   "eqLabelWithNumbers": false,
   "eqNumInitial": 1,
   "hotkeys": {
    "equation": "Ctrl-E",
    "itemize": "Ctrl-I"
   },
   "labels_anchors": false,
   "latex_user_defs": false,
   "report_style_numbering": false,
   "user_envs_cfg": true
  }
 },
 "nbformat": 4,
 "nbformat_minor": 2
}
